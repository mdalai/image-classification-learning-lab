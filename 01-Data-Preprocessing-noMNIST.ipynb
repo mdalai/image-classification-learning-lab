{
 "cells": [
  {
   "cell_type": "markdown",
   "metadata": {},
   "source": [
    "# Data Preprocessing\n",
    "Data preprocessing is always the first step in machine learning. It is a time consuming process. We will do following works:\n",
    " - Download the dataset\n",
    " - Visualize the data\n",
    " - Features and Labels generation\n",
    " - Label encoding\n",
    " - Feature normalization\n",
    " - Validation data generation\n",
    " - Save the data for easy access"
   ]
  },
  {
   "cell_type": "markdown",
   "metadata": {},
   "source": [
    "## Downlaod noMNIST dataset\n",
    "we will accomplish this work by following two dependancies:\n",
    " - urllib.request.urlretrieve: it downloads data based on the given URL.\n",
    " - os.path.isfile: this function is to check if file is already downloaded. We do not want to download the dataset again and again. "
   ]
  },
  {
   "cell_type": "code",
   "execution_count": 10,
   "metadata": {
    "collapsed": true
   },
   "outputs": [],
   "source": [
    "from urllib.request import urlretrieve\n",
    "import os"
   ]
  },
  {
   "cell_type": "code",
   "execution_count": 4,
   "metadata": {
    "collapsed": false
   },
   "outputs": [],
   "source": [
    "# Download the training and test dataset.\n",
    "url_train = 'https://s3.amazonaws.com/udacity-sdc/notMNIST_train.zip'\n",
    "file_train = 'notMNIST_train.zip'\n",
    "url_test = 'https://s3.amazonaws.com/udacity-sdc/notMNIST_test.zip'\n",
    "file_test = 'notMNIST_test.zip'\n",
    "\n",
    "if not os.path.isfile(file_train):\n",
    "    download(url_train, file_train)\n",
    "if not os.path.isfile(file_test):\n",
    "    download(url_test, file_test)"
   ]
  },
  {
   "cell_type": "markdown",
   "metadata": {},
   "source": [
    "## Data Visualization\n",
    "We will depends on following libraries to finish this step:\n",
    " - zipfile: it uncompresses the zip file. Our dataset is zip file, so we have to unzip it first.\n",
    " - pillow: [the friendly PIL fork](https://python-pillow.org/). PIL is the Python Imaging Library. We will process png files with this library.\n",
    " - matplotlib: this library will help us to show the image in the notebook."
   ]
  },
  {
   "cell_type": "code",
   "execution_count": 4,
   "metadata": {
    "collapsed": true
   },
   "outputs": [],
   "source": [
    "%matplotlib inline\n",
    "from zipfile import ZipFile\n",
    "from PIL import Image\n",
    "from matplotlib.pyplot import imshow\n",
    "import numpy as np"
   ]
  },
  {
   "cell_type": "code",
   "execution_count": 5,
   "metadata": {
    "collapsed": false
   },
   "outputs": [
    {
     "name": "stdout",
     "output_type": "stream",
     "text": [
      "['notMNIST_test/A0.png', 'notMNIST_test/A1.png', 'notMNIST_test/A10.png', 'notMNIST_test/A100.png', 'notMNIST_test/A101.png']\n",
      "['notMNIST_test/B0.png', 'notMNIST_test/B1.png', 'notMNIST_test/B10.png', 'notMNIST_test/B100.png', 'notMNIST_test/B101.png']\n",
      "['notMNIST_test/J995.png', 'notMNIST_test/J996.png', 'notMNIST_test/J997.png', 'notMNIST_test/J998.png', 'notMNIST_test/J999.png']\n"
     ]
    }
   ],
   "source": [
    "with ZipFile('notMNIST_test.zip') as zipf:\n",
    "    group1 = zipf.namelist()[1:11]\n",
    "    group2 = zipf.namelist()[1001:1011]\n",
    "    group3 = zipf.namelist()[-10:]\n",
    "    print(zipf.namelist()[1:6])\n",
    "    print(zipf.namelist()[1001:1006])\n",
    "    print(zipf.namelist()[-5:])"
   ]
  },
  {
   "cell_type": "markdown",
   "metadata": {},
   "source": [
    "### Show one image\n",
    " - see a picture\n",
    " - see a pixel value of the image. To see the pixel value, we have to convert image into np.array. We will use this pixel value of image as a input feature later on."
   ]
  },
  {
   "cell_type": "code",
   "execution_count": 27,
   "metadata": {
    "collapsed": false,
    "scrolled": false
   },
   "outputs": [
    {
     "data": {
      "text/plain": [
       "<matplotlib.image.AxesImage at 0x15ab1d5c240>"
      ]
     },
     "execution_count": 27,
     "metadata": {},
     "output_type": "execute_result"
    },
    {
     "data": {
      "image/png": "[encoded data removed]",
      "text/plain": [
       "<matplotlib.figure.Figure at 0x15ab3385e48>"
      ]
     },
     "metadata": {},
     "output_type": "display_data"
    }
   ],
   "source": [
    "img = ZipFile('notMNIST_test.zip').open('notMNIST_test/A0.png')\n",
    "img = Image.open(img) # cmap='binary' : this will show gray scale image\n",
    "imshow(img)"
   ]
  },
  {
   "cell_type": "code",
   "execution_count": 31,
   "metadata": {
    "collapsed": false
   },
   "outputs": [
    {
     "data": {
      "text/plain": [
       "array([[   0.,    0.,    0.,    0.,    0.,    0.,    0.,    0.,    0.,\n",
       "           0.,    0.,    2.,    0.,  171.,  255.,  252.,  255.,  255.,\n",
       "         255.,  255.,  255.,  255.,  255.,  251.,  255.,  129.,    0.,\n",
       "           3.],\n",
       "       [   0.,    0.,    0.,    0.,    0.,    0.,    0.,    0.,    0.,\n",
       "           0.,    2.,    0.,   50.,  249.,  255.,  254.,  255.,  255.,\n",
       "         255.,  255.,  255.,  255.,  255.,  252.,  255.,  151.,    0.,\n",
       "           2.],\n",
       "       [   0.,    0.,    0.,    0.,    0.,    0.,    0.,    0.,    0.,\n",
       "           0.,    2.,    0.,  160.,  255.,  252.,  255.,  255.,  255.,\n",
       "         255.,  255.,  255.,  255.,  255.,  252.,  255.,  174.,    0.,\n",
       "           2.],\n",
       "       [   0.,    0.,    0.,    0.,    0.,    0.,    0.,    0.,    0.,\n",
       "           2.,    0.,   48.,  245.,  255.,  254.,  255.,  255.,  255.,\n",
       "         255.,  255.,  255.,  255.,  255.,  253.,  255.,  197.,    0.,\n",
       "           1.],\n",
       "       [   0.,    0.,    0.,    0.,    0.,    0.,    0.,    0.,    0.,\n",
       "           2.,    0.,  154.,  255.,  252.,  255.,  255.,  255.,  255.,\n",
       "         255.,  255.,  255.,  255.,  255.,  253.,  255.,  219.,    0.,\n",
       "           0.],\n",
       "       [   0.,    0.,    0.,    0.,    0.,    0.,    0.,    0.,    2.,\n",
       "           0.,   42.,  244.,  255.,  254.,  255.,  255.,  255.,  255.,\n",
       "         255.,  255.,  255.,  255.,  255.,  253.,  255.,  230.,   12.,\n",
       "           0.],\n",
       "       [   0.,    0.,    0.,    0.,    0.,    0.,    0.,    0.,    3.,\n",
       "           0.,  149.,  255.,  251.,  255.,  255.,  255.,  255.,  254.,\n",
       "         255.,  255.,  255.,  255.,  255.,  254.,  255.,  240.,   31.,\n",
       "           0.],\n",
       "       [   0.,    0.,    0.,    0.,    0.,    0.,    0.,    1.,    0.,\n",
       "          36.,  243.,  255.,  254.,  255.,  255.,  255.,  255.,  254.,\n",
       "         253.,  255.,  255.,  255.,  255.,  254.,  255.,  249.,   50.,\n",
       "           0.],\n",
       "       [   0.,    0.,    0.,    0.,    0.,    0.,    0.,    3.,    0.,\n",
       "         141.,  255.,  251.,  255.,  255.,  255.,  254.,  255.,  222.,\n",
       "         211.,  255.,  254.,  255.,  255.,  254.,  255.,  255.,   67.,\n",
       "           0.],\n",
       "       [   0.,    0.,    0.,    0.,    0.,    0.,    1.,    0.,   29.,\n",
       "         238.,  255.,  254.,  255.,  255.,  255.,  252.,  255.,  130.,\n",
       "         187.,  255.,  253.,  255.,  255.,  255.,  252.,  255.,   86.,\n",
       "           0.],\n",
       "       [   0.,    0.,    0.,    0.,    0.,    0.,    4.,    0.,  132.,\n",
       "         255.,  252.,  255.,  255.,  255.,  254.,  255.,  241.,   45.,\n",
       "         199.,  255.,  253.,  255.,  255.,  255.,  250.,  255.,  104.,\n",
       "           0.],\n",
       "       [   0.,    0.,    0.,    0.,    0.,    1.,    0.,   23.,  232.,\n",
       "         255.,  254.,  255.,  255.,  255.,  252.,  255.,  171.,    0.,\n",
       "         210.,  255.,  253.,  255.,  255.,  255.,  251.,  255.,  125.,\n",
       "           0.],\n",
       "       [   0.,    0.,    0.,    0.,    0.,    4.,    0.,  124.,  255.,\n",
       "         252.,  255.,  255.,  255.,  255.,  253.,  255.,   75.,    0.,\n",
       "         214.,  255.,  253.,  255.,  255.,  255.,  251.,  255.,  147.,\n",
       "           0.],\n",
       "       [   0.,    0.,    0.,    0.,    1.,    0.,   19.,  225.,  255.,\n",
       "         254.,  255.,  255.,  255.,  253.,  255.,  216.,    3.,    6.,\n",
       "         213.,  255.,  253.,  255.,  255.,  255.,  252.,  255.,  168.,\n",
       "           0.],\n",
       "       [   0.,    0.,    0.,    0.,    3.,    0.,  118.,  255.,  252.,\n",
       "         255.,  255.,  255.,  255.,  251.,  255.,  123.,    0.,   11.,\n",
       "         214.,  255.,  253.,  255.,  255.,  255.,  253.,  255.,  190.,\n",
       "           0.],\n",
       "       [   0.,    0.,    0.,    1.,    0.,   18.,  220.,  255.,  253.,\n",
       "         255.,  255.,  255.,  254.,  255.,  241.,   41.,    0.,   11.,\n",
       "         217.,  255.,  253.,  255.,  255.,  255.,  253.,  255.,  212.,\n",
       "           2.],\n",
       "       [   0.,    0.,    0.,    3.,    0.,  111.,  255.,  252.,  255.,\n",
       "         255.,  255.,  255.,  252.,  255.,  170.,    0.,    0.,    9.,\n",
       "         219.,  255.,  253.,  255.,  255.,  255.,  254.,  255.,  230.,\n",
       "           9.],\n",
       "       [   0.,    0.,    1.,    0.,   15.,  216.,  255.,  253.,  255.,\n",
       "         255.,  255.,  255.,  253.,  255.,   71.,    0.,    0.,   10.,\n",
       "         221.,  255.,  253.,  255.,  255.,  255.,  254.,  255.,  238.,\n",
       "          29.],\n",
       "       [   0.,    0.,    3.,    0.,  105.,  255.,  252.,  255.,  255.,\n",
       "         255.,  255.,  255.,  255.,  252.,  222.,  218.,  219.,  220.,\n",
       "         250.,  255.,  255.,  255.,  255.,  255.,  254.,  255.,  245.,\n",
       "          50.],\n",
       "       [   0.,    1.,    0.,   10.,  213.,  255.,  253.,  255.,  255.,\n",
       "         255.,  255.,  255.,  255.,  255.,  255.,  255.,  255.,  255.,\n",
       "         255.,  255.,  255.,  255.,  255.,  255.,  254.,  255.,  252.,\n",
       "          71.],\n",
       "       [   0.,    3.,    0.,   97.,  255.,  252.,  255.,  255.,  255.,\n",
       "         255.,  255.,  255.,  255.,  255.,  253.,  253.,  253.,  253.,\n",
       "         255.,  255.,  255.,  255.,  255.,  255.,  255.,  254.,  255.,\n",
       "          92.],\n",
       "       [   1.,    0.,    4.,  207.,  255.,  253.,  255.,  255.,  255.,\n",
       "         255.,  255.,  255.,  253.,  253.,  253.,  253.,  253.,  253.,\n",
       "         255.,  255.,  255.,  255.,  255.,  255.,  255.,  252.,  255.,\n",
       "         114.],\n",
       "       [   3.,    0.,   89.,  255.,  252.,  255.,  255.,  255.,  255.,\n",
       "         255.,  255.,  254.,  255.,  255.,  255.,  255.,  255.,  255.,\n",
       "         255.,  255.,  255.,  255.,  255.,  255.,  255.,  251.,  255.,\n",
       "         134.],\n",
       "       [   0.,    0.,  201.,  255.,  253.,  255.,  255.,  255.,  255.,\n",
       "         255.,  255.,  249.,  221.,  219.,  219.,  219.,  218.,  225.,\n",
       "         255.,  255.,  255.,  255.,  255.,  255.,  255.,  252.,  255.,\n",
       "         156.],\n",
       "       [   0.,   80.,  255.,  253.,  255.,  255.,  255.,  255.,  255.,\n",
       "         252.,  255.,  169.,    0.,    2.,    0.,    2.,    0.,   43.,\n",
       "         253.,  255.,  254.,  255.,  255.,  255.,  255.,  253.,  255.,\n",
       "         178.],\n",
       "       [   0.,  189.,  255.,  253.,  255.,  255.,  255.,  255.,  255.,\n",
       "         254.,  255.,   76.,    0.,    3.,    0.,    2.,    0.,   46.,\n",
       "         253.,  255.,  255.,  255.,  255.,  255.,  255.,  253.,  255.,\n",
       "         200.],\n",
       "       [  81.,  255.,  255.,  255.,  255.,  255.,  255.,  255.,  253.,\n",
       "         255.,  214.,   11.,    0.,    1.,    0.,    2.,    0.,   49.,\n",
       "         254.,  255.,  255.,  255.,  255.,  255.,  255.,  254.,  255.,\n",
       "         222.],\n",
       "       [ 192.,  255.,  253.,  255.,  255.,  255.,  255.,  255.,  252.,\n",
       "         255.,  133.,    0.,    4.,    0.,    0.,    2.,    0.,   52.,\n",
       "         255.,  255.,  255.,  255.,  255.,  255.,  255.,  255.,  255.,\n",
       "         244.]], dtype=float32)"
      ]
     },
     "execution_count": 31,
     "metadata": {},
     "output_type": "execute_result"
    }
   ],
   "source": [
    "#img.load()\n",
    "np.array(img, dtype=np.float32)"
   ]
  },
  {
   "cell_type": "markdown",
   "metadata": {},
   "source": [
    "### Show group of images"
   ]
  },
  {
   "cell_type": "code",
   "execution_count": 8,
   "metadata": {
    "collapsed": false
   },
   "outputs": [
    {
     "data": {
      "text/plain": [
       "30"
      ]
     },
     "execution_count": 8,
     "metadata": {},
     "output_type": "execute_result"
    }
   ],
   "source": [
    "images = []\n",
    "for img in group1:\n",
    "    image = ZipFile('notMNIST_test.zip').open(img)\n",
    "    images.append(Image.open(image))\n",
    "    \n",
    "for img in group2:\n",
    "    image = ZipFile('notMNIST_test.zip').open(img)\n",
    "    images.append(Image.open(image))\n",
    "    \n",
    "for img in group3:\n",
    "    image = ZipFile('notMNIST_test.zip').open(img)\n",
    "    images.append(Image.open(image))\n",
    "    \n",
    "len(images)"
   ]
  },
  {
   "cell_type": "code",
   "execution_count": 11,
   "metadata": {
    "collapsed": false
   },
   "outputs": [
    {
     "data": {
      "text/plain": [
       "30"
      ]
     },
     "execution_count": 11,
     "metadata": {},
     "output_type": "execute_result"
    }
   ],
   "source": [
    "labels = []\n",
    "for file in group1:\n",
    "    label = os.path.split(file)[1][0]\n",
    "    labels.append(label)\n",
    "    \n",
    "for file in group2:\n",
    "    label = os.path.split(file)[1][0]\n",
    "    labels.append(label) \n",
    "\n",
    "for file in group3:\n",
    "    label = os.path.split(file)[1][0]\n",
    "    labels.append(label)\n",
    "    \n",
    "len(labels)"
   ]
  },
  {
   "cell_type": "code",
   "execution_count": 12,
   "metadata": {
    "collapsed": true
   },
   "outputs": [],
   "source": [
    "import matplotlib.pyplot as plt"
   ]
  },
  {
   "cell_type": "markdown",
   "metadata": {},
   "source": [
    "Following function can be adapted in later."
   ]
  },
  {
   "cell_type": "code",
   "execution_count": 13,
   "metadata": {
    "collapsed": false
   },
   "outputs": [],
   "source": [
    "def plot_images(images, labels, pred=None):\n",
    "    assert len(images) == len(labels) == 30\n",
    "    \n",
    "    # Create figure with 3x10 sub-plots.\n",
    "    fig, axes = plt.subplots(3, 10, figsize=(15,5))\n",
    "    fig.subplots_adjust(hspace=0.1, wspace=0.1)\n",
    "\n",
    "    for i, ax in enumerate(axes.flat):\n",
    "        # Plot image.\n",
    "        ax.imshow(images[i]) \n",
    "\n",
    "        # Show true and predicted classes.\n",
    "        if pred is None:\n",
    "            xlabel = \"{0}\".format(labels[i])\n",
    "        else:\n",
    "            xlabel = \"{0} -> {1}\".format(labels[i], pred[i])\n",
    "\n",
    "        ax.set_xlabel(xlabel)\n",
    "        \n",
    "        # Remove ticks from the plot.\n",
    "        ax.set_xticks([])\n",
    "        ax.set_yticks([])"
   ]
  },
  {
   "cell_type": "code",
   "execution_count": 14,
   "metadata": {
    "collapsed": false,
    "scrolled": true
   },
   "outputs": [
    {
     "data": {
      "image/png": "[encoded data removed]",
      "text/plain": [
       "<matplotlib.figure.Figure at 0x15ab1455438>"
      ]
     },
     "metadata": {},
     "output_type": "display_data"
    }
   ],
   "source": [
    "# Plot the images and labels using our helper-function above.\n",
    "plot_images(images=images, labels=labels)"
   ]
  },
  {
   "cell_type": "markdown",
   "metadata": {},
   "source": [
    "## Features and Labels data generation\n",
    "Currently, our data are all images. We can not directly use them. In order to process our data into the model, we have to have features and labels. We will generate features and labels in this step.\n",
    " - [tqdm](https://pypi.python.org/pypi/tqdm): instantly make your loops show a smart progress meter - just wrap any iterable with tqdm(iterable). We have a huge data, so we want to see the progress.\n",
    " - Pillow Image will load the images as pixel value. And then we need to flatten it."
   ]
  },
  {
   "cell_type": "code",
   "execution_count": 121,
   "metadata": {
    "collapsed": true
   },
   "outputs": [],
   "source": [
    "from tqdm import tqdm"
   ]
  },
  {
   "cell_type": "code",
   "execution_count": 124,
   "metadata": {
    "collapsed": false,
    "scrolled": true
   },
   "outputs": [
    {
     "name": "stderr",
     "output_type": "stream",
     "text": [
      "  0%|                                                                                    | 0/210001 [00:00<?, ?files/s]<bound method tqdm.__del__ of  27%|██████████████████▉                                                    | 55988/210001 [01:21<03:45, 684.48files/s]>\n",
      "Traceback (most recent call last):\n",
      "  File \"C:\\Anaconda3\\envs\\tf1.0\\lib\\site-packages\\tqdm\\_tqdm.py\", line 764, in __del__\n",
      "    self.close()\n",
      "  File \"C:\\Anaconda3\\envs\\tf1.0\\lib\\site-packages\\tqdm\\_tqdm.py\", line 1002, in close\n",
      "    self._decr_instances(self)\n",
      "  File \"C:\\Anaconda3\\envs\\tf1.0\\lib\\site-packages\\tqdm\\_tqdm.py\", line 407, in _decr_instances\n",
      "  0%|                                                                        | 315/210001 [00:00<01:07, 3092.44files/s]\n",
      "AttributeError: 'tqdm' object has no attribute 'pos'\n",
      "100%|█████████████████████████████████████████████████████████████████████| 210001/210001 [00:36<00:00, 5737.13files/s]\n",
      "100%|███████████████████████████████████████████████████████████████████████| 10001/10001 [00:01<00:00, 5751.54files/s]\n"
     ]
    }
   ],
   "source": [
    "def uncompress_features_labels(file):\n",
    "    features = []\n",
    "    labels = []\n",
    "\n",
    "    with ZipFile(file) as zipf:\n",
    "        # Progress Bar\n",
    "        filenames_pbar = tqdm(zipf.namelist(), unit='files')\n",
    "        \n",
    "        # Get features and labels from all files\n",
    "        for filename in filenames_pbar:\n",
    "            # Check if the file is a directory\n",
    "            if not filename.endswith('/'):\n",
    "                with zipf.open(filename) as image_file:\n",
    "                    image = Image.open(image_file)\n",
    "                    image.load()\n",
    "                    # Load image data as 1 dimensional array\n",
    "                    # We're using float32 to save on memory space\n",
    "                    feature = np.array(image, dtype=np.float32).flatten()\n",
    "\n",
    "                # Get the the letter from the filename.  This is the letter of the image.\n",
    "                label = os.path.split(filename)[1][0]\n",
    "\n",
    "                features.append(feature)\n",
    "                labels.append(label)\n",
    "    return np.array(features), np.array(labels)\n",
    "\n",
    "\n",
    "# Get the features and labels from the zip files\n",
    "train_features, train_labels = uncompress_features_labels('notMNIST_train.zip')\n",
    "test_features, test_labels = uncompress_features_labels('notMNIST_test.zip')"
   ]
  },
  {
   "cell_type": "code",
   "execution_count": 129,
   "metadata": {
    "collapsed": false
   },
   "outputs": [
    {
     "data": {
      "text/plain": [
       "(210000, 784)"
      ]
     },
     "execution_count": 129,
     "metadata": {},
     "output_type": "execute_result"
    }
   ],
   "source": [
    "train_features.shape"
   ]
  },
  {
   "cell_type": "code",
   "execution_count": 137,
   "metadata": {
    "collapsed": false,
    "scrolled": true
   },
   "outputs": [
    {
     "data": {
      "text/plain": [
       "array(['A', 'A', 'A', 'A', 'A', 'A', 'A', 'A', 'A', 'A'], \n",
       "      dtype='<U1')"
      ]
     },
     "execution_count": 137,
     "metadata": {},
     "output_type": "execute_result"
    }
   ],
   "source": [
    "train_labels[:10]"
   ]
  },
  {
   "cell_type": "markdown",
   "metadata": {},
   "source": [
    " - we have 210,000 images and labels. We do not want this much data. It requires too much computational power and time. So will just take 150,000 of them.\n",
    " - Obviously, we can not use labels shown above. We have to encode it first,"
   ]
  },
  {
   "cell_type": "markdown",
   "metadata": {},
   "source": [
    "### Smaller size data"
   ]
  },
  {
   "cell_type": "code",
   "execution_count": 146,
   "metadata": {
    "collapsed": true
   },
   "outputs": [],
   "source": [
    "from sklearn.utils import resample"
   ]
  },
  {
   "cell_type": "code",
   "execution_count": 147,
   "metadata": {
    "collapsed": false
   },
   "outputs": [],
   "source": [
    "docker_size_limit = 150000\n",
    "train_features, train_labels = resample(train_features, train_labels, n_samples=docker_size_limit)"
   ]
  },
  {
   "cell_type": "markdown",
   "metadata": {},
   "source": [
    "## Label encoding - one hot encoding"
   ]
  },
  {
   "cell_type": "code",
   "execution_count": 138,
   "metadata": {
    "collapsed": true
   },
   "outputs": [],
   "source": [
    "from sklearn.preprocessing import LabelBinarizer"
   ]
  },
  {
   "cell_type": "code",
   "execution_count": 148,
   "metadata": {
    "collapsed": true
   },
   "outputs": [],
   "source": [
    "# Turn labels into numbers and apply One-Hot Encoding\n",
    "encoder = LabelBinarizer()\n",
    "encoder.fit(train_labels)\n",
    "train_labels = encoder.transform(train_labels)\n",
    "test_labels = encoder.transform(test_labels)\n",
    "\n",
    "# Change to float32, so it can be multiplied against the features in TensorFlow, which are float32\n",
    "train_labels = train_labels.astype(np.float32)\n",
    "test_labels = test_labels.astype(np.float32)"
   ]
  },
  {
   "cell_type": "markdown",
   "metadata": {},
   "source": [
    "## Feature Normalization\n",
    "Why do we need to do feature normalization? It is better to compare it and find it out."
   ]
  },
  {
   "cell_type": "code",
   "execution_count": null,
   "metadata": {
    "collapsed": true
   },
   "outputs": [],
   "source": [
    "is_features_normal = False"
   ]
  },
  {
   "cell_type": "code",
   "execution_count": null,
   "metadata": {
    "collapsed": true
   },
   "outputs": [],
   "source": [
    "def normalize_grayscale(image_data):\n",
    "    \"\"\"\n",
    "    Normalize the image data with Min-Max scaling to a range of [0.1, 0.9]\n",
    "    :param image_data: The image data to be normalized\n",
    "    :return: Normalized image data\n",
    "    \"\"\"\n",
    "    # TODO: Implement Min-Max scaling for grayscale image data\n",
    "    a = 0.1\n",
    "    b = 0.9\n",
    "    img_min = 0\n",
    "    img_max = 255\n",
    "    return a + (image_data - img_min)*(b-a)/ (img_max - img_min)"
   ]
  },
  {
   "cell_type": "code",
   "execution_count": null,
   "metadata": {
    "collapsed": true
   },
   "outputs": [],
   "source": [
    "if not is_features_normal:\n",
    "    train_features = normalize_grayscale(train_features)\n",
    "    test_features = normalize_grayscale(test_features)\n",
    "    is_features_normal = True\n"
   ]
  },
  {
   "cell_type": "markdown",
   "metadata": {},
   "source": [
    "## Split dateset into train and validation"
   ]
  },
  {
   "cell_type": "code",
   "execution_count": 140,
   "metadata": {
    "collapsed": true
   },
   "outputs": [],
   "source": [
    "from sklearn.model_selection import train_test_split"
   ]
  },
  {
   "cell_type": "code",
   "execution_count": 149,
   "metadata": {
    "collapsed": true
   },
   "outputs": [],
   "source": [
    "# Get randomized datasets for training and validation\n",
    "train_features, valid_features, train_labels, valid_labels = train_test_split(\n",
    "    train_features,\n",
    "    train_labels,\n",
    "    test_size=0.05,\n",
    "    random_state=832289)"
   ]
  },
  {
   "cell_type": "markdown",
   "metadata": {},
   "source": [
    "### SAVE the data for easy access"
   ]
  },
  {
   "cell_type": "code",
   "execution_count": 143,
   "metadata": {
    "collapsed": true
   },
   "outputs": [],
   "source": [
    "import pickle"
   ]
  },
  {
   "cell_type": "code",
   "execution_count": 151,
   "metadata": {
    "collapsed": false
   },
   "outputs": [
    {
     "name": "stdout",
     "output_type": "stream",
     "text": [
      "Saving data to pickle file...\n",
      "Data cached in pickle file.\n"
     ]
    }
   ],
   "source": [
    "pickle_file = 'notMNIST_noNorm.pickle'\n",
    "if not os.path.isfile(pickle_file):\n",
    "    print('Saving data to pickle file...')\n",
    "    try:\n",
    "        with open('notMNIST_noNorm.pickle', 'wb') as pfile:\n",
    "            pickle.dump(\n",
    "                {\n",
    "                    'train_dataset': train_features,\n",
    "                    'train_labels': train_labels,\n",
    "                    'valid_dataset': valid_features,\n",
    "                    'valid_labels': valid_labels,\n",
    "                    'test_dataset': test_features,\n",
    "                    'test_labels': test_labels,\n",
    "                },\n",
    "                pfile, pickle.HIGHEST_PROTOCOL)\n",
    "    except Exception as e:\n",
    "        print('Unable to save data to', pickle_file, ':', e)\n",
    "        raise\n",
    "\n",
    "print('Data cached in pickle file.')"
   ]
  },
  {
   "cell_type": "code",
   "execution_count": null,
   "metadata": {
    "collapsed": true
   },
   "outputs": [],
   "source": []
  }
 ],
 "metadata": {
  "kernelspec": {
   "display_name": "Python 3",
   "language": "python",
   "name": "python3"
  },
  "language_info": {
   "codemirror_mode": {
    "name": "ipython",
    "version": 3
   },
   "file_extension": ".py",
   "mimetype": "text/x-python",
   "name": "python",
   "nbconvert_exporter": "python",
   "pygments_lexer": "ipython3",
   "version": "3.5.3"
  }
 },
 "nbformat": 4,
 "nbformat_minor": 2
}
